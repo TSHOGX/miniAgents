{
 "cells": [
  {
   "cell_type": "code",
   "execution_count": null,
   "metadata": {},
   "outputs": [],
   "source": [
    "import requests\n",
    "\n",
    "def call_qwen_model(prompt: str) -> dict:\n",
    "    url = \"http://localhost:11434/v1\"  # Adjust the URL if necessary\n",
    "    headers = {\n",
    "        \"Authorization\": \"Bearer xagents-coder\",\n",
    "        \"Content-Type\": \"application/json\"\n",
    "    }\n",
    "    data = {\n",
    "        \"model\": \"hosted_vllm/Qwen/Qwen2.5-Coder-7B-Instruct\",\n",
    "        \"prompt\": prompt,\n",
    "        \"temperature\": 0.8,\n",
    "    }\n",
    "\n",
    "    response = requests.post(url, headers=headers, json=data)\n",
    "    return response.json()\n",
    "\n",
    "# Example usage\n",
    "result = call_qwen_model(\"Generate SQL query to count distinct vehicle IDs.\")\n",
    "print(result)"
   ]
  },
  {
   "cell_type": "code",
   "execution_count": 8,
   "metadata": {},
   "outputs": [
    {
     "name": "stdout",
     "output_type": "stream",
     "text": [
      "ChatCompletion(id='chatcmpl-273', choices=[Choice(finish_reason='tool_calls', index=0, logprobs=None, message=ChatCompletionMessage(content='', refusal=None, role='assistant', audio=None, function_call=None, tool_calls=[ChatCompletionMessageToolCall(id='call_a9zmm6fu', function=Function(arguments='{\"a\":5,\"b\":3,\"operation\":\"divide\"}', name='math_tool'), type='function', index=0)]))], created=1741676453, model='qwen2.5:7b', object='chat.completion', service_tier=None, system_fingerprint='fp_ollama', usage=CompletionUsage(completion_tokens=32, prompt_tokens=229, total_tokens=261, completion_tokens_details=None, prompt_tokens_details=None))\n"
     ]
    }
   ],
   "source": [
    "from openai import OpenAI\n",
    "from typing import List, Dict, Union\n",
    "\n",
    "\n",
    "def math_tool(operation: str, a: float, b: float) -> float:\n",
    "    if operation == \"add\":\n",
    "        return a + b\n",
    "    elif operation == \"subtract\":\n",
    "        return a - b\n",
    "    elif operation == \"multiply\":\n",
    "        return a * b\n",
    "    elif operation == \"divide\":\n",
    "        return a / b if b != 0 else float(\"nan\")\n",
    "    else:\n",
    "        raise ValueError(\"Invalid operation\")\n",
    "\n",
    "\n",
    "def return_name_tool() -> str:\n",
    "    return \"This is a name tool.\"\n",
    "\n",
    "\n",
    "def chat_with_tools(prompt: str, tools: List[Dict]) -> Dict:\n",
    "    client = OpenAI(\n",
    "        base_url=\"http://localhost:11434/v1\",\n",
    "        api_key=\"ollama\",  # Required but unused\n",
    "    )\n",
    "\n",
    "    response = client.chat.completions.create(\n",
    "        model=\"qwen2.5:7b\",  # Updated model name\n",
    "        messages=[{\"role\": \"user\", \"content\": prompt}],\n",
    "        tools=tools,\n",
    "        temperature=0.8,\n",
    "    )\n",
    "    return response\n",
    "\n",
    "\n",
    "# Properly formatted tools with parameters\n",
    "tools = [\n",
    "    {\n",
    "        \"type\": \"function\",\n",
    "        \"function\": {\n",
    "            \"name\": \"math_tool\",\n",
    "            \"description\": \"Performs basic math operations.\",\n",
    "            \"parameters\": {\n",
    "                \"type\": \"object\",\n",
    "                \"properties\": {\n",
    "                    \"operation\": {\n",
    "                        \"type\": \"string\",\n",
    "                        \"enum\": [\"add\", \"subtract\", \"multiply\", \"divide\"],\n",
    "                    },\n",
    "                    \"a\": {\"type\": \"number\"},\n",
    "                    \"b\": {\"type\": \"number\"},\n",
    "                },\n",
    "                \"required\": [\"operation\", \"a\", \"b\"],\n",
    "            },\n",
    "        },\n",
    "    },\n",
    "    {\n",
    "        \"type\": \"function\",\n",
    "        \"function\": {\n",
    "            \"name\": \"return_name_tool\",\n",
    "            \"description\": \"Returns a name.\",\n",
    "            \"parameters\": {\"type\": \"object\", \"properties\": {}},\n",
    "        },\n",
    "    },\n",
    "]\n",
    "\n",
    "# Example usage\n",
    "prompt = \"what is 5/ 3?\"\n",
    "result = chat_with_tools(prompt, tools)\n",
    "print(result)"
   ]
  },
  {
   "cell_type": "code",
   "execution_count": 9,
   "metadata": {},
   "outputs": [
    {
     "name": "stdout",
     "output_type": "stream",
     "text": [
      "Tool call requested: math_tool\n",
      "Arguments: {\"a\":5,\"b\":3,\"operation\":\"divide\"}\n"
     ]
    }
   ],
   "source": [
    "# After getting the response\n",
    "message = result.choices[0].message\n",
    "if message.tool_calls:\n",
    "    for tool_call in message.tool_calls:\n",
    "        print(f\"Tool call requested: {tool_call.function.name}\")\n",
    "        print(f\"Arguments: {tool_call.function.arguments}\")"
   ]
  },
  {
   "cell_type": "code",
   "execution_count": 10,
   "metadata": {},
   "outputs": [
    {
     "data": {
      "text/plain": [
       "ChatCompletionMessage(content='', refusal=None, role='assistant', audio=None, function_call=None, tool_calls=[ChatCompletionMessageToolCall(id='call_a9zmm6fu', function=Function(arguments='{\"a\":5,\"b\":3,\"operation\":\"divide\"}', name='math_tool'), type='function', index=0)])"
      ]
     },
     "execution_count": 10,
     "metadata": {},
     "output_type": "execute_result"
    }
   ],
   "source": [
    "message"
   ]
  },
  {
   "cell_type": "code",
   "execution_count": 11,
   "metadata": {},
   "outputs": [
    {
     "name": "stdout",
     "output_type": "stream",
     "text": [
      "The result of adding 5 and 3 is 8.\n"
     ]
    }
   ],
   "source": [
    "import json\n",
    "\n",
    "\n",
    "def process_tool_calls(response):\n",
    "    client = OpenAI(base_url=\"http://localhost:11434/v1\", api_key=\"ollama\")\n",
    "\n",
    "    # Get the initial response\n",
    "    message = response.choices[0].message\n",
    "    messages = [{\"role\": \"user\", \"content\": prompt}]\n",
    "\n",
    "    print(message)\n",
    "\n",
    "    # If there are tool calls, execute them and get results\n",
    "    if message.tool_calls:\n",
    "        messages.append(\n",
    "            {\"role\": \"assistant\", \"content\": None, \"tool_calls\": message.tool_calls}\n",
    "        )\n",
    "\n",
    "        for tool_call in message.tool_calls:\n",
    "            # Execute the tool\n",
    "            function_name = tool_call.function.name\n",
    "            args = json.loads(tool_call.function.arguments)\n",
    "\n",
    "            try:\n",
    "                if function_name == \"math_tool\":\n",
    "                    result = math_tool(**args)\n",
    "                elif function_name == \"return_name_tool\":\n",
    "                    result = return_name_tool()\n",
    "                else:\n",
    "                    result = f\"Error: Unknown function {function_name}\"\n",
    "            except Exception as e:\n",
    "                result = f\"Error executing tool: {str(e)}\"\n",
    "\n",
    "            # Add tool response to messages\n",
    "            messages.append(\n",
    "                {\n",
    "                    \"role\": \"tool\",\n",
    "                    \"content\": str(result),\n",
    "                    \"tool_call_id\": tool_call.id,\n",
    "                    \"name\": function_name,\n",
    "                }\n",
    "            )\n",
    "\n",
    "        # Get final completion with tool results\n",
    "        final_response = client.chat.completions.create(\n",
    "            model=\"qwen2.5:7b\", messages=messages, temperature=0.5\n",
    "        )\n",
    "        return final_response\n",
    "    else:\n",
    "        return response\n",
    "\n",
    "\n",
    "# Example usage\n",
    "# tools = [...]  # The same tool definitions from previous example\n",
    "\n",
    "prompt = \"Use the math_tool to add 5 and 3, and return the result.\"\n",
    "initial_response = chat_with_tools(prompt, tools)\n",
    "final_response = process_tool_calls(initial_response)\n",
    "\n",
    "# Print the final answer\n",
    "print(final_response.choices[0].message.content)"
   ]
  },
  {
   "cell_type": "code",
   "execution_count": 12,
   "metadata": {},
   "outputs": [
    {
     "data": {
      "text/plain": [
       "ChatCompletionMessage(content='The result of adding 5 and 3 is 8.', refusal=None, role='assistant', audio=None, function_call=None, tool_calls=None)"
      ]
     },
     "execution_count": 12,
     "metadata": {},
     "output_type": "execute_result"
    }
   ],
   "source": [
    "final_response.choices[0].message"
   ]
  }
 ],
 "metadata": {
  "kernelspec": {
   "display_name": "llm",
   "language": "python",
   "name": "python3"
  },
  "language_info": {
   "codemirror_mode": {
    "name": "ipython",
    "version": 3
   },
   "file_extension": ".py",
   "mimetype": "text/x-python",
   "name": "python",
   "nbconvert_exporter": "python",
   "pygments_lexer": "ipython3",
   "version": "3.12.9"
  }
 },
 "nbformat": 4,
 "nbformat_minor": 2
}
